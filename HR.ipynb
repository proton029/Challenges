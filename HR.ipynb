{
 "cells": [
  {
   "cell_type": "code",
   "execution_count": 1,
   "id": "f44e6e36",
   "metadata": {},
   "outputs": [
    {
     "name": "stdout",
     "output_type": "stream",
     "text": [
      "10\n",
      "2 12345678910\n"
     ]
    }
   ],
   "source": [
    "#hacker rank solved and verified\n",
    "n = int(input())\n",
    "p=1\n",
    "k=0\n",
    "for i in range(1,n+1):\n",
    "    \n",
    "    quo=i\n",
    "    p=1\n",
    "    while(quo//10!=0):\n",
    "        quo=quo//10\n",
    "        p+=1\n",
    "    k*=10**p \n",
    "\n",
    "        \n",
    "    k+=i\n",
    "        \n",
    "    \n",
    "print(f'{p} {k}')"
   ]
  },
  {
   "cell_type": "code",
   "execution_count": 6,
   "id": "118d143b",
   "metadata": {},
   "outputs": [
    {
     "name": "stdout",
     "output_type": "stream",
     "text": [
      "1\n",
      "1\n",
      "1\n",
      "2\n",
      "[[0, 0, 0], [0, 0, 1], [0, 1, 0], [1, 0, 0], [1, 1, 1]]\n"
     ]
    }
   ],
   "source": [
    "#solved and verified\n",
    "x = int(input())\n",
    "y = int(input())\n",
    "z = int(input())\n",
    "n = int(input())\n",
    "print( [[i,j,k] for i in range( x + 1) for j in range( y + 1) for k in range(z+1) if ( ( i + j + k ) != n )  ])\n",
    "    \n",
    "            \n",
    "\n"
   ]
  },
  {
   "cell_type": "code",
   "execution_count": 14,
   "id": "fcf07656",
   "metadata": {},
   "outputs": [
    {
     "name": "stdout",
     "output_type": "stream",
     "text": [
      "5\n",
      "1\n",
      "2\n",
      "3\n",
      "4\n",
      "5\n",
      "4\n"
     ]
    }
   ],
   "source": [
    "n=int(input())\n",
    "score_list=[]\n",
    "for score in range(n):\n",
    "    score_list.append(int(input()))\n",
    "score_list.sort()\n",
    "print(score_list.pop(-2))\n",
    "    "
   ]
  },
  {
   "cell_type": "code",
   "execution_count": 12,
   "id": "5ffde0d7",
   "metadata": {},
   "outputs": [
    {
     "data": {
      "text/plain": [
       "[1, 2, 3]"
      ]
     },
     "execution_count": 12,
     "metadata": {},
     "output_type": "execute_result"
    }
   ],
   "source": [
    "score_list"
   ]
  },
  {
   "cell_type": "code",
   "execution_count": 65,
   "id": "5434767b",
   "metadata": {},
   "outputs": [
    {
     "name": "stdout",
     "output_type": "stream",
     "text": [
      "5\n",
      "2 3 4 5 6\n",
      "5\n"
     ]
    }
   ],
   "source": [
    "#solved and verified\n",
    "n = int(input())\n",
    "arr = set(map(int, input().split()))\n",
    "li=list(arr)\n",
    "li.sort()\n",
    "print(li.pop(-2))"
   ]
  },
  {
   "cell_type": "code",
   "execution_count": 45,
   "id": "d9b1fea9",
   "metadata": {},
   "outputs": [
    {
     "name": "stdout",
     "output_type": "stream",
     "text": [
      "5\n",
      "harry\n",
      "37.21\n",
      "berry\n",
      "37.21\n",
      "tina\n",
      "37.2\n",
      "akrati\n",
      "41\n",
      "harsh\n",
      "39\n",
      "berry\n",
      "harry\n"
     ]
    }
   ],
   "source": [
    "#solved and verified\n",
    "n=int(input())\n",
    "b=[]\n",
    "c=[]\n",
    "for item in range(0,n):\n",
    "    a=input()\n",
    "    b.append(a)\n",
    "    a=float(input())\n",
    "    b.append(a)\n",
    "    c.append(b)\n",
    "    b=[]\n",
    "k=[]\n",
    "for i,j in c:\n",
    "    t=j\n",
    "    j=i\n",
    "    i=t\n",
    "    b.append(i)\n",
    "    b.append(j)\n",
    "    k.append(b)\n",
    "    b=[]\n",
    "k.sort()\n",
    "a=k[0][0]\n",
    "for i,j in k:\n",
    "    if(a!=i):\n",
    "        x=i\n",
    "        break\n",
    "for i,j in k:\n",
    "    if(i==x):\n",
    "        b.append(j)\n",
    "b.sort()\n",
    "for i in b:\n",
    "    print (i)\n",
    "        \n",
    "        \n",
    "\n"
   ]
  },
  {
   "cell_type": "code",
   "execution_count": 11,
   "id": "f345d2d9",
   "metadata": {},
   "outputs": [
    {
     "name": "stdout",
     "output_type": "stream",
     "text": [
      "3\n",
      "krishna\n",
      "67 68 69\n",
      "arjun\n",
      "70 98 63\n",
      "malika\n",
      "52 56 60\n",
      "malika\n",
      "56.0\n"
     ]
    }
   ],
   "source": [
    "#solved and verified\n",
    "n = int(input())\n",
    "student_marks = {}\n",
    "for _ in range(n):\n",
    "    name, *line = input().split()\n",
    "    scores = list(map(float, line))\n",
    "    student_marks[name] = scores\n",
    "query_name = input()\n",
    "if query_name in student_marks:\n",
    "    r=sum(student_marks[query_name])/3\n",
    "    print(r)\n",
    "\n",
    "\n",
    "   \n",
    "    "
   ]
  },
  {
   "cell_type": "code",
   "execution_count": 138,
   "id": "576ead16",
   "metadata": {},
   "outputs": [
    {
     "name": "stdout",
     "output_type": "stream",
     "text": [
      "4\n",
      "append 4\n",
      "remove 45\n",
      "print\n",
      "append 1\n",
      "[4]\n"
     ]
    }
   ],
   "source": [
    "#solved and verified\n",
    "n=int(input())\n",
    "li=[]\n",
    "n_li=[]\n",
    "for _ in range(n):\n",
    "    cmd,*values=input().split()\n",
    "    vals=list(map(int,values))\n",
    "    li.append(cmd)\n",
    "    li.append(vals)\n",
    "\n",
    "for i in range(0,len(li)-1):\n",
    "    if li[i]=='pop' and len(n_li)!=0:\n",
    "        n_li.pop()\n",
    "        \n",
    "    elif li[i]=='append':\n",
    "        vals=int(li[i+1][0])\n",
    "        n_li.append(vals)\n",
    "        \n",
    "    elif li[i]=='insert':\n",
    "        vals=int(li[i+1][0])\n",
    "        n=int(li[i+1][1])\n",
    "        n_li.insert(vals,n)\n",
    "    \n",
    "    elif li[i]=='print':\n",
    "        print(n_li)\n",
    "        \n",
    "    elif li[i]=='remove':\n",
    "        vals=int(li[i+1][0])\n",
    "        if(vals in n_li):\n",
    "            n_li.remove(vals)\n",
    "        \n",
    "    elif li[i]=='sort':\n",
    "        n_li.sort()\n",
    "        \n",
    "    elif li[i]=='reverse':\n",
    "        n_li.reverse()\n",
    "        \n",
    "        \n"
   ]
  },
  {
   "cell_type": "code",
   "execution_count": 136,
   "id": "21a485b1",
   "metadata": {},
   "outputs": [
    {
     "data": {
      "text/plain": [
       "[45, 1, 2, 45]"
      ]
     },
     "execution_count": 136,
     "metadata": {},
     "output_type": "execute_result"
    }
   ],
   "source": [
    "n_li"
   ]
  },
  {
   "cell_type": "code",
   "execution_count": 113,
   "id": "6f6025a5",
   "metadata": {},
   "outputs": [
    {
     "data": {
      "text/plain": [
       "[]"
      ]
     },
     "execution_count": 113,
     "metadata": {},
     "output_type": "execute_result"
    }
   ],
   "source": [
    "n_li"
   ]
  },
  {
   "cell_type": "code",
   "execution_count": 1,
   "id": "cc3d07d9",
   "metadata": {},
   "outputs": [],
   "source": [
    "#solved and submitted code\n",
    "def count_substring(string, sub_string):\n",
    "    s=''\n",
    "    cnt=0\n",
    "    j=0\n",
    "    while(j<=len(string)-1):\n",
    "        \n",
    "        for i in range(0,len(sub_string)):\n",
    "            if (j+i)>len(string)-1:\n",
    "                break\n",
    "            s+=string[i+j]\n",
    "        print (s)\n",
    "        if s==sub_string:\n",
    "            cnt+=1\n",
    "        j+=1\n",
    "        s=''\n",
    "        \n",
    "    return cnt"
   ]
  },
  {
   "cell_type": "code",
   "execution_count": 22,
   "id": "3b89f9ff",
   "metadata": {},
   "outputs": [
    {
     "name": "stdout",
     "output_type": "stream",
     "text": [
      "ddd\n",
      "dd\n",
      "dd\n",
      "dd\n",
      "d\n",
      "2\n"
     ]
    }
   ],
   "source": [
    "#solved and submitted code\n",
    "if __name__ == '__main__':\n",
    "    string = input().strip()\n",
    "    sub_string = input().strip()\n",
    "    \n",
    "    count = count_substring(string, sub_string)\n",
    "    print(count)"
   ]
  },
  {
   "cell_type": "code",
   "execution_count": 41,
   "id": "b382bbbd",
   "metadata": {},
   "outputs": [],
   "source": [
    "a=(1,2,3,3)"
   ]
  },
  {
   "cell_type": "code",
   "execution_count": 42,
   "id": "814df8fb",
   "metadata": {},
   "outputs": [
    {
     "data": {
      "text/plain": [
       "tuple"
      ]
     },
     "execution_count": 42,
     "metadata": {},
     "output_type": "execute_result"
    }
   ],
   "source": [
    "type(a)"
   ]
  },
  {
   "cell_type": "code",
   "execution_count": 1,
   "id": "78cea422",
   "metadata": {},
   "outputs": [
    {
     "name": "stdout",
     "output_type": "stream",
     "text": [
      "ABCDEFGHIJKLIMNOQRSTUVWXYZ\n",
      "4\n",
      "ABCD\n",
      "EFGH\n",
      "IJKL\n",
      "IMNO\n",
      "QRST\n",
      "UVWX\n",
      "YZ\n"
     ]
    }
   ],
   "source": [
    "#solved and submittted\n",
    "import textwrap\n",
    "\n",
    "def wrap(string, max_width):\n",
    "    s=''\n",
    "    for i in range(0,len(string)):   \n",
    "        if(i%max_width==0 and i!=0):\n",
    "            s+='\\n'\n",
    "        s+=string[i]   \n",
    "    return s\n",
    "\n",
    "if __name__ == '__main__':\n",
    "    string, max_width = input(), int(input())\n",
    "    result = wrap(string, max_width)\n",
    "    print(result)"
   ]
  },
  {
   "cell_type": "code",
   "execution_count": 25,
   "id": "32f543cd",
   "metadata": {},
   "outputs": [
    {
     "name": "stdout",
     "output_type": "stream",
     "text": [
      "7 21\n",
      "---------.|.---------\n",
      "------.|..|..|.------\n",
      "---.|..|..|..|..|.---\n",
      "-------WELCOME-------\n",
      "---.|..|..|..|..|.---\n",
      "------.|..|..|.------\n",
      "---------.|.---------\n"
     ]
    }
   ],
   "source": [
    "#solved and submitted code\n",
    "N,M=input().split()\n",
    "N=int(N)\n",
    "M=int(M)\n",
    "c='.|.'\n",
    "p='-'\n",
    "m=(M-len(c))//2\n",
    "for i in range(N):\n",
    "    \n",
    "    if(i==((N-1)//2)):\n",
    "        s='WELCOME'\n",
    "        m=(M-len(s))//2\n",
    "        print(p*m+s+p*m)\n",
    "    elif(i>(N-1)//2):\n",
    "        m=(M-(k*3))//2\n",
    "        print(p*m+c*k+p*m)\n",
    "        k-=2   \n",
    "    else:\n",
    "        k=2*i+1\n",
    "        print(p*m+c*k+p*m)\n",
    "        m-=3\n",
    "        \n"
   ]
  },
  {
   "cell_type": "code",
   "execution_count": 22,
   "id": "f7d2e725",
   "metadata": {},
   "outputs": [
    {
     "name": "stdout",
     "output_type": "stream",
     "text": [
      "  10  12   A\t1010\n"
     ]
    }
   ],
   "source": [
    "n=10\n",
    "print(f'{n:{l1}d}{n:{l1}o}{n:{l1}X}{n:{l1}b}')"
   ]
  },
  {
   "cell_type": "code",
   "execution_count": 19,
   "id": "38e2a165",
   "metadata": {},
   "outputs": [],
   "source": [
    "l1 = len(bin(8)[2:])"
   ]
  },
  {
   "cell_type": "code",
   "execution_count": 26,
   "id": "c7b9734b",
   "metadata": {},
   "outputs": [
    {
     "data": {
      "text/plain": [
       "'0b1000'"
      ]
     },
     "execution_count": 26,
     "metadata": {},
     "output_type": "execute_result"
    }
   ],
   "source": [
    "(8)"
   ]
  },
  {
   "cell_type": "code",
   "execution_count": 1,
   "id": "77a266ed",
   "metadata": {},
   "outputs": [
    {
     "name": "stdout",
     "output_type": "stream",
     "text": [
      "5\n",
      "    H    \n",
      "   HHH   \n",
      "  HHHHH  \n",
      " HHHHHHH \n",
      "HHHHHHHHH\n",
      "  HHHHH               HHHHH             \n",
      "  HHHHH               HHHHH             \n",
      "  HHHHH               HHHHH             \n",
      "  HHHHH               HHHHH             \n",
      "  HHHHH               HHHHH             \n",
      "  HHHHH               HHHHH             \n",
      "  HHHHHHHHHHHHHHHHHHHHHHHHH   \n",
      "  HHHHHHHHHHHHHHHHHHHHHHHHH   \n",
      "  HHHHHHHHHHHHHHHHHHHHHHHHH   \n",
      "  HHHHH               HHHHH             \n",
      "  HHHHH               HHHHH             \n",
      "  HHHHH               HHHHH             \n",
      "  HHHHH               HHHHH             \n",
      "  HHHHH               HHHHH             \n",
      "  HHHHH               HHHHH             \n",
      "                    HHHHHHHHH \n",
      "                     HHHHHHH  \n",
      "                      HHHHH   \n",
      "                       HHH    \n",
      "                        H     \n"
     ]
    }
   ],
   "source": [
    "#solved and submitted code\n",
    "#Replace all ______ with rjust, ljust or center. \n",
    "\n",
    "thickness = int(input()) #This must be an odd number\n",
    "c = 'H'\n",
    "\n",
    "#Top Cone\n",
    "for i in range(thickness):\n",
    "    print((c*i).rjust(thickness-1)+c+(c*i).ljust(thickness-1))\n",
    "    \n",
    "for i in range(thickness+1):\n",
    "    print((c*thickness).center(thickness*2)+(c*thickness).center(thickness*6))\n",
    "    \n",
    "for i in range((thickness+1)//2):\n",
    "    print((c*thickness*5).center(thickness*6))  \n",
    "    \n",
    "for i in range(thickness+1):\n",
    "    print((c*thickness).center(thickness*2)+(c*thickness).center(thickness*6))    \n",
    "\n",
    "#Bottom Cone\n",
    "for i in range(thickness):\n",
    "    print(((c*(thickness-i-1)).rjust(thickness)+c+(c*(thickness-i-1)).ljust(thickness)).rjust(thickness*6))"
   ]
  },
  {
   "cell_type": "code",
   "execution_count": 1,
   "id": "d49a565d",
   "metadata": {},
   "outputs": [
    {
     "name": "stdout",
     "output_type": "stream",
     "text": [
      "6\n",
      "----------f----------\n",
      "--------f-e-f--------\n",
      "------f-e-d-e-f------\n",
      "----f-e-d-c-d-e-f----\n",
      "--f-e-d-c-b-c-d-e-f--\n",
      "f-e-d-c-b-a-b-c-d-e-f\n",
      "--f-e-d-c-b-c-d-e-f--\n",
      "----f-e-d-c-d-e-f----\n",
      "------f-e-d-e-f------\n",
      "--------f-e-f--------\n",
      "----------f----------\n"
     ]
    }
   ],
   "source": [
    "#solved and submitted\n",
    "def print_rangoli(size):\n",
    "    alphalist=list(string.ascii_lowercase)\n",
    "    t_string=''\n",
    "    m_str=''\n",
    "    for i in range(2*size-1):\n",
    "        if(size==1):\n",
    "            t_string=alphalist[size-i-1]\n",
    "            print(t_string)\n",
    "            break\n",
    "        elif(size>len(alphalist)):\n",
    "            print('Please Enter between 1-26')\n",
    "            break\n",
    "        elif(i<size):\n",
    "            \n",
    "            t_string=alphalist[size-i-1]\n",
    "            if(len(m_str)<1):\n",
    "                t_string='-'+t_string+'-'\n",
    "                m_str=t_string[1]\n",
    "            else:\n",
    "                m=t_string+'-'+m_str\n",
    "                t_string='-'+t_string+'-'\n",
    "                t_string=m_str[::-1]+t_string+m_str\n",
    "                m_str=m\n",
    "        elif(i>=size):\n",
    "            t_string='-'+alphalist[i-size+1]+'-'\n",
    "            m='-'.join(alphalist[i-size+2:size])\n",
    "            t_string=m[::-1]+t_string+m\n",
    "        \n",
    "           \n",
    "        \n",
    "        r=((size*4)-len(t_string)-3)//2\n",
    "        print('-'*r+t_string+'-'*r)\n",
    "        t_string=''\n",
    "        \n",
    "    \n",
    "    \n",
    "import string\n",
    "if __name__ == '__main__':\n",
    "    n = int(input())\n",
    "    print_rangoli(n)"
   ]
  },
  {
   "cell_type": "code",
   "execution_count": 2,
   "id": "d5b35f31",
   "metadata": {},
   "outputs": [
    {
     "name": "stdout",
     "output_type": "stream",
     "text": [
      "hello   world  lol\n",
      "Hello   World  Lol\n"
     ]
    }
   ],
   "source": [
    "#solved and submitted code\n",
    "s=input()\n",
    "n1=''\n",
    "for i in range(len(s)):\n",
    "    if((s[i]!=' ' and s[i-1]==' ')or i==0):\n",
    "        n1+=s[i].upper()\n",
    "    else:\n",
    "        n1+=s[i]\n",
    "    \n",
    "print(n1)"
   ]
  },
  {
   "cell_type": "code",
   "execution_count": 1,
   "id": "6f5f1b52",
   "metadata": {},
   "outputs": [
    {
     "name": "stdout",
     "output_type": "stream",
     "text": [
      "BABABA\n",
      "Stuart 12\n"
     ]
    }
   ],
   "source": [
    "#solved and submitted The mInion Game\n",
    "def minion_game(string):\n",
    "    # your code goes here\n",
    "    vowels=\"AEIOU\"\n",
    "    stuart=0\n",
    "    kevin=0\n",
    "    index=0\n",
    "    while (index<len(string)):\n",
    "        if(string[index] in vowels):\n",
    "            kevin+=len(string)-index\n",
    "        else:\n",
    "            stuart+=len(string)-index\n",
    "            \n",
    "        index+=1                 \n",
    "    if stuart>kevin:\n",
    "        print(f'Stuart {stuart}')\n",
    "    elif  stuart<kevin:\n",
    "        print(f'Kevin {kevin}')\n",
    "    else:\n",
    "        print('Draw')\n",
    "                        \n",
    "  \n",
    "    \n",
    "\n",
    "if __name__ == '__main__':\n",
    "    s = input()\n",
    "    minion_game(s)"
   ]
  },
  {
   "cell_type": "code",
   "execution_count": 16,
   "id": "4c79b220",
   "metadata": {},
   "outputs": [],
   "source": [
    "#solved and submitted code for merge problem\n",
    "def merge_the_tools(string, k):\n",
    "    sub_string=''\n",
    "    i=0\n",
    "    while i<len(string):\n",
    "        for j in range(k):\n",
    "            if string[j+i] not in sub_string:\n",
    "                sub_string+=string[j+i]\n",
    "        print(sub_string)\n",
    "        sub_string=''\n",
    "        i+=k\n",
    "    "
   ]
  },
  {
   "cell_type": "code",
   "execution_count": 18,
   "id": "ee80c746",
   "metadata": {},
   "outputs": [
    {
     "name": "stdout",
     "output_type": "stream",
     "text": [
      "A\n",
      "BCA\n",
      "DE\n"
     ]
    }
   ],
   "source": [
    "merge_the_tools('AAABCADDE', 3)"
   ]
  },
  {
   "cell_type": "code",
   "execution_count": 15,
   "id": "44258abf",
   "metadata": {},
   "outputs": [
    {
     "name": "stdout",
     "output_type": "stream",
     "text": [
      "1 2\n",
      "3 4\n",
      "(1, 3) (1, 4) (2, 3) (2, 4)\n"
     ]
    }
   ],
   "source": [
    "#solved and submitted code\n",
    "from itertools import product\n",
    "a,*b=input().split()\n",
    "b.insert(0,a)\n",
    "b=list(map(int,b))\n",
    "a,*c=input().split()\n",
    "c.insert(0,a)\n",
    "c=list(map(int,c))\n",
    "print (*list(product(b,c)))"
   ]
  },
  {
   "cell_type": "code",
   "execution_count": 45,
   "id": "f7945682",
   "metadata": {},
   "outputs": [
    {
     "name": "stdout",
     "output_type": "stream",
     "text": [
      "10\n",
      "2 3 4 5 6 8 7 6 5 18\n",
      "6\n",
      "6 55\n",
      "6 45\n",
      "6 55\n",
      "4 40\n",
      "18 60\n",
      "10 50\n"
     ]
    }
   ],
   "source": [
    "#solved and submitted code\n",
    "from collections import Counter\n",
    "shoes=int(input())\n",
    "a,*sizes=input().split()\n",
    "sizes.insert(0,a)\n",
    "sizes=list(map(int,sizes))\n",
    "d=dict(Counter(sizes))\n",
    "N=int(input())\n",
    "total=0\n",
    "for i in range(N):\n",
    "    s,p=map(int,input().split())\n",
    "    if s in d.keys():\n",
    "        if d[s]!=0:\n",
    "            d[s]-=1\n",
    "            total+=p\n",
    "print(total)\n",
    "        \n",
    "\n"
   ]
  },
  {
   "cell_type": "code",
   "execution_count": 62,
   "id": "3029674f",
   "metadata": {},
   "outputs": [
    {
     "name": "stdout",
     "output_type": "stream",
     "text": [
      "HACK 2\n",
      "AC\n",
      "AH\n",
      "AK\n",
      "CA\n",
      "CH\n",
      "CK\n",
      "HA\n",
      "HC\n",
      "HK\n",
      "KA\n",
      "KC\n",
      "KH\n"
     ]
    }
   ],
   "source": [
    "#submitted and verified code\n",
    "from itertools import permutations\n",
    "s,*p=input().split()\n",
    "p=int(p[0])\n",
    "pa=[]\n",
    "for item in list(permutations(s,p)):\n",
    "    pa.append(''.join(item))\n",
    "pa.sort()\n",
    "print(*pa,sep='\\n')\n"
   ]
  },
  {
   "cell_type": "code",
   "execution_count": 73,
   "id": "95680635",
   "metadata": {},
   "outputs": [
    {
     "name": "stdout",
     "output_type": "stream",
     "text": [
      "-1+0j\n",
      "1.0\n",
      "3.141592653589793\n"
     ]
    }
   ],
   "source": [
    "from cmath import phase\n",
    "Z=complex(input())\n",
    "print(f'{abs(Z)}\\n{phase(Z)}')\n",
    "\n",
    "\n"
   ]
  },
  {
   "cell_type": "code",
   "execution_count": 74,
   "id": "29129c90",
   "metadata": {},
   "outputs": [],
   "source": [
    "#solved and submitted code for insert a node at a particular position in a Linked list\n",
    "\n",
    "#!/bin/python3\n",
    "\n",
    "import math\n",
    "import os\n",
    "import random\n",
    "import re\n",
    "import sys\n",
    "\n",
    "class SinglyLinkedListNode:\n",
    "    def __init__(self, node_data):\n",
    "        self.data = node_data\n",
    "        self.next = None\n",
    "\n",
    "class SinglyLinkedList:\n",
    "    def __init__(self):\n",
    "        self.head = None\n",
    "        self.tail = None\n",
    "\n",
    "def insert_node(self, node_data):\n",
    "    \n",
    "    node = SinglyLinkedListNode(node_data)\n",
    "\n",
    "    if not self.head:\n",
    "          self.head = node\n",
    "    else:\n",
    "         self.tail.next = node\n",
    "\n",
    "\n",
    "        self.tail = node\n",
    "\n",
    "def print_singly_linked_list(node, sep, fptr):\n",
    "    while node:\n",
    "        fptr.write(str(node.data))\n",
    "\n",
    "        node = node.next\n",
    "\n",
    "        if node:\n",
    "            fptr.write(sep)\n",
    "\n",
    "#\n",
    "# Complete the 'insertNodeAtPosition' function below.\n",
    "#\n",
    "# The function is expected to return an INTEGER_SINGLY_LINKED_LIST.\n",
    "# The function accepts following parameters:\n",
    "#  1. INTEGER_SINGLY_LINKED_LIST llist\n",
    "#  2. INTEGER data\n",
    "#  3. INTEGER position\n",
    "#\n",
    "\n",
    "#\n",
    "# For your reference:\n",
    "#\n",
    "# SinglyLinkedListNode:\n",
    "#     int data\n",
    "#     SinglyLinkedListNode next\n",
    "#\n",
    "#\n",
    "\n",
    "\n",
    "def insertNodeAtPosition(llist, data, position):\n",
    "    node = SinglyLinkedListNode(data)\n",
    "    pnt=None\n",
    "    if llist:\n",
    "        pnt=llist\n",
    "    for i in range(position+1):\n",
    "      \n",
    "        if position==0:\n",
    "            pnt=llist\n",
    "            llist=node\n",
    "            llist.next=pnt\n",
    "            break\n",
    "        elif i==position-1:\n",
    "            val=pnt.next\n",
    "            pnt.next=node\n",
    "            pnt=pnt.next\n",
    "            pnt.next=val\n",
    "            break\n",
    "            \n",
    "        pnt=pnt.next    \n",
    "            \n",
    "        \n",
    "    return llist  \n",
    "\n",
    "\n",
    "if __name__ == '__main__':\n",
    "    fptr = open(os.environ['OUTPUT_PATH'], 'w')\n",
    "\n",
    "    llist_count = int(input())\n",
    "\n",
    "    llist = SinglyLinkedList()\n",
    "\n",
    "    for _ in range(llist_count):\n",
    "        llist_item = int(input())\n",
    "        llist.insert_node(llist_item)\n",
    "\n",
    "    data = int(input())\n",
    "\n",
    "    position = int(input())\n",
    "\n",
    "    llist_head = insertNodeAtPosition(llist.head, data, position)\n",
    "\n",
    "    print_singly_linked_list(llist_head, ' ', fptr)\n",
    "    fptr.write('\\n')\n",
    "\n",
    "    fptr.close()\n"
   ]
  },
  {
   "cell_type": "code",
   "execution_count": 77,
   "id": "2e660c64",
   "metadata": {},
   "outputs": [
    {
     "data": {
      "text/plain": [
       "5"
      ]
     },
     "execution_count": 77,
     "metadata": {},
     "output_type": "execute_result"
    }
   ],
   "source": [
    "#print elements of a LL\n",
    "\n",
    "#!/bin/python3\n",
    "\n",
    "import math\n",
    "import os\n",
    "import random\n",
    "import re\n",
    "import sys\n",
    "\n",
    "class SinglyLinkedListNode:\n",
    "    def __init__(self, node_data):\n",
    "        self.data = node_data\n",
    "        self.next = None\n",
    "\n",
    "class SinglyLinkedList:\n",
    "    def __init__(self):\n",
    "        self.head = None\n",
    "        self.tail = None\n",
    "\n",
    "    def insert_node(self, node_data):\n",
    "        node = SinglyLinkedListNode(node_data)\n",
    "\n",
    "        if not self.head:\n",
    "            self.head = node\n",
    "        else:\n",
    "            self.tail.next = node\n",
    "\n",
    "\n",
    "        self.tail = node\n",
    "\n",
    "# Complete the printLinkedList function below.\n",
    "\n",
    "#\n",
    "# For your reference:\n",
    "#\n",
    "# SinglyLinkedListNode:\n",
    "#     int data\n",
    "#     SinglyLinkedListNode next\n",
    "\n",
    "def printLinkedList(head):\n",
    "    printval=head\n",
    "    while printval is not None:\n",
    "        print(printval.data)\n",
    "        printval=printval.next\n",
    "\n",
    "\n",
    "\n",
    "if __name__ == '__main__':\n",
    "    llist_count = int(input())\n",
    "\n",
    "    llist = SinglyLinkedList()\n",
    "\n",
    "    for _ in range(llist_count):\n",
    "        llist_item = int(input())\n",
    "        llist.insert_node(llist_item)\n",
    "\n",
    "    printLinkedList(llist.head)\n"
   ]
  },
  {
   "cell_type": "code",
   "execution_count": 23,
   "id": "31748e21",
   "metadata": {},
   "outputs": [],
   "source": [
    "#insert this function to add a node at tail\n",
    "\n",
    "def insertNodeAtTail(head, data):\n",
    "    if head is None:\n",
    "        return SinglyLinkedListNode(data)\n",
    "    pnt = head\n",
    "    while pnt.next:\n",
    "        pnt = pnt.next\n",
    "    pnt.next = SinglyLinkedListNode(data)\n",
    "    return head\n",
    "\n",
    "#Insert a node at Head\n",
    "\n",
    "\n",
    "\n",
    "def insertNodeAtHead(llist, data):\n",
    "    pnt=SinglyLinkedListNode(data)\n",
    "    if llist is None:\n",
    "        return SinglyLinkedListNode(data)\n",
    "    pnt.next=llist\n",
    "    return pnt\n",
    "\n",
    "#delete a node\n",
    "\n",
    "def deleteNode(llist, position):\n",
    "    pnt=llist\n",
    "    for i in range(position+1):\n",
    "        \n",
    "        if position==0:\n",
    "            pnt=pnt.next\n",
    "            llist=None\n",
    "            llist=pnt\n",
    "            break\n",
    "        elif i==position-1:\n",
    "            val=pnt.next\n",
    "            val=val.next\n",
    "            pnt.next=val\n",
    "            break\n",
    "        pnt=pnt.next\n",
    "    return llist\n",
    "                   \n",
    "\n",
    "\n",
    "        \n",
    "\n",
    "\n",
    "        \n",
    "\n"
   ]
  },
  {
   "cell_type": "code",
   "execution_count": 39,
   "id": "f29544eb",
   "metadata": {},
   "outputs": [
    {
     "data": {
      "text/plain": [
       "dict"
      ]
     },
     "execution_count": 39,
     "metadata": {},
     "output_type": "execute_result"
    }
   ],
   "source": [
    "#Day 15 challenge LL\n",
    "class Node:\n",
    "    def __init__(self,data):\n",
    "        self.data = data\n",
    "        self.next = None \n",
    "class Solution: \n",
    "    def display(self,head):\n",
    "        current = head\n",
    "        while current:\n",
    "            print(current.data,end=' ')\n",
    "            current = current.next\n",
    "\n",
    "    def insert(self,head,data): \n",
    "        node=Node(data)\n",
    "        \n",
    "        if head is None:\n",
    "            head=node\n",
    "            return head\n",
    "        current=head\n",
    "        while current.next is not None:\n",
    "            current=current.next\n",
    "        current.next=node\n",
    "        return head\n",
    "            \n",
    "            \n",
    "\n",
    "mylist= Solution()\n",
    "T=int(input())\n",
    "head=None\n",
    "for i in range(T):\n",
    "    data=int(input())\n",
    "    head=mylist.insert(head,data)    \n",
    "mylist.display(head); \t  "
   ]
  },
  {
   "cell_type": "code",
   "execution_count": 1,
   "id": "f80c13db",
   "metadata": {},
   "outputs": [
    {
     "name": "stdout",
     "output_type": "stream",
     "text": [
      "1\n",
      "2\n",
      "<__main__.Node object at 0x7fa7a0316af0>\n",
      "2 "
     ]
    }
   ],
   "source": [
    "#Day 23 \n",
    "\n",
    "import sys\n",
    "\n",
    "class Node:\n",
    "    def __init__(self,data):\n",
    "        self.right=self.left=None\n",
    "        self.data = data\n",
    "class Solution:\n",
    "    def insert(self,root,data):\n",
    "        if root==None:\n",
    "            return Node(data)\n",
    "        else:\n",
    "            if data<=root.data:\n",
    "                cur=self.insert(root.left,data)\n",
    "                root.left=cur\n",
    "            else:\n",
    "                cur=self.insert(root.right,data)\n",
    "                root.right=cur\n",
    "        return root\n",
    "\n",
    "    def levelOrder(self,root):\n",
    "        #Write your code here\n",
    "        if root is None:\n",
    "            return \n",
    "        queue=[]\n",
    "        queue.append(root)\n",
    "        while len(queue)!=0:\n",
    "            k=queue.pop(0)\n",
    "            print(k.data, end=\" \")\n",
    "            if k.left is not None:\n",
    "                queue.append(k.left)\n",
    "            if k.right is not None:\n",
    "                queue.append(k.right)\n",
    "                \n",
    "                \n",
    "            \n",
    "\n",
    "T=int(input())\n",
    "myTree=Solution()\n",
    "root=None\n",
    "for i in range(T):\n",
    "    data=int(input())\n",
    "    root=myTree.insert(root,data)\n",
    "    print(root)\n",
    "myTree.levelOrder(root)\n"
   ]
  },
  {
   "cell_type": "code",
   "execution_count": 2,
   "id": "5983db88",
   "metadata": {},
   "outputs": [
    {
     "name": "stdout",
     "output_type": "stream",
     "text": [
      "1 2 6\n",
      "1 2 6\n",
      "0\n"
     ]
    }
   ],
   "source": [
    "# Day26\n",
    "d1,m1,y1=map(int,input().split())\n",
    "d2,m2,y2=map(int,input().split())\n",
    "hackos=0\n",
    "if y2<y1:\n",
    "    hackos=10000\n",
    "elif y1==y2:\n",
    "    if m2<m1:\n",
    "        hackos=500*(m1-m2)\n",
    "    elif d2<d1:\n",
    "        hackos=15*(d1-d2)\n",
    "print(hackos)\n"
   ]
  },
  {
   "cell_type": "code",
   "execution_count": 24,
   "id": "3fc7e3bf",
   "metadata": {},
   "outputs": [
    {
     "name": "stdout",
     "output_type": "stream",
     "text": [
      "2\n",
      "dad dasd@gmai.com\n",
      "ads add@gmail.com\n",
      "ads add@gmail.com\n"
     ]
    }
   ],
   "source": [
    "#day 28\n",
    "#!/bin/python3\n",
    "\n",
    "import math\n",
    "import os\n",
    "import random\n",
    "import re\n",
    "import sys\n",
    "\n",
    "\n",
    "\n",
    "if __name__ == '__main__':\n",
    "    N = int(input().strip())\n",
    "\n",
    "    for N_itr in range(N):\n",
    "        first_multiple_input = input().rstrip().split()\n",
    "\n",
    "        firstName = first_multiple_input[0]\n",
    "\n",
    "        emailID = first_multiple_input[1]\n",
    "        pattern=re.compile(r'(@gmail.com)')\n",
    "        match_pattern=re.search(pattern,emailID)\n",
    "        if(match_pattern is None):\n",
    "            pass\n",
    "        elif(match_pattern.group()=='@gmail.com'):\n",
    "            print(f'{firstName} {emailID}')\n"
   ]
  },
  {
   "cell_type": "code",
   "execution_count": 17,
   "id": "6cc06b85",
   "metadata": {},
   "outputs": [
    {
     "data": {
      "text/plain": [
       "'@gmail.com'"
      ]
     },
     "execution_count": 17,
     "metadata": {},
     "output_type": "execute_result"
    }
   ],
   "source": [
    "emailID='ranju@gmail.com'\n",
    "pattern=re.compile(r'(@gmail.com)')\n",
    "match_pattern=re.search(pattern,emailID)\n",
    "match_pattern.group()"
   ]
  },
  {
   "cell_type": "markdown",
   "id": "75f65839",
   "metadata": {},
   "source": [
    "# 10 days of stats"
   ]
  },
  {
   "cell_type": "code",
   "execution_count": 22,
   "id": "5e80d7d0",
   "metadata": {},
   "outputs": [
    {
     "name": "stdout",
     "output_type": "stream",
     "text": [
      "6\n",
      "1 2 3 4 5 6\n",
      "3.5\n",
      "3.5\n",
      "1\n"
     ]
    }
   ],
   "source": [
    "#Mean median and mode q1\n",
    "import numpy as np\n",
    "from scipy import stats\n",
    "N=int(input())\n",
    "X=list(map(int,input().split()))\n",
    "print(f'{np.mean(X)}\\n{np.median(X)}\\n{stats.mode(X)[0][0]}')"
   ]
  },
  {
   "cell_type": "code",
   "execution_count": 25,
   "id": "af753691",
   "metadata": {},
   "outputs": [],
   "source": [
    "#Q2 Weighted Mean, Meadian and Mode\n",
    "X=[1,2,3]\n",
    "Y=[3,4,5]\n",
    "rslt=[(X[i]*Y[i])for i in range(len(X))]\n"
   ]
  },
  {
   "cell_type": "code",
   "execution_count": 5,
   "id": "c1689eba",
   "metadata": {},
   "outputs": [],
   "source": [
    "#Q3 IQR\n",
    "trueList=[]\n",
    "    for i in  range(len(values)):\n",
    "        trueList+=[values[i]]*freq[i]\n",
    "    L=sum(freq)\n",
    "    M=len(values)\n",
    "    trueList.sort()\n",
    "    if M%2 != 0:\n",
    "        q1=stat.median(trueList[:L//2])\n",
    "        q3=stat.median(trueList[(L+1)//2:])\n",
    "    else:\n",
    "        q1=stat.median(trueList[:L//2])\n",
    "        q3=stat.median(trueList[L//2:])\n",
    "    print(round(float(q3-q1),1))"
   ]
  },
  {
   "cell_type": "code",
   "execution_count": 10,
   "id": "54ade47a",
   "metadata": {},
   "outputs": [
    {
     "name": "stdout",
     "output_type": "stream",
     "text": [
      "1.09 1\n",
      "0.696\n"
     ]
    }
   ],
   "source": [
    "#Day4 Binomial Distribution\n",
    "boys, girls=map(float,input().split())\n",
    "odds=boys/girls\n",
    "binos=[]\n",
    "def factorial(k):\n",
    "    if k==0 or k==1:\n",
    "        return 1\n",
    "    else:\n",
    "        return (factorial(k-1)*k)\n",
    "    \n",
    "\n",
    "def combinations(r,n,p):\n",
    "    return(factorial(n)/(factorial(n-r)*factorial(r)))\n",
    "    \n",
    "p=odds/(1+odds)   \n",
    "for i in range(3,7):\n",
    "    binos.append(combinations(i,6,p)*(p**i)*(1-p)**(6-i))\n",
    "    \n",
    "print(round(sum(binos),3))\n"
   ]
  },
  {
   "cell_type": "code",
   "execution_count": 17,
   "id": "4bb7050c",
   "metadata": {},
   "outputs": [
    {
     "name": "stdout",
     "output_type": "stream",
     "text": [
      "12 10\n",
      "0.891\n",
      "0.342\n"
     ]
    }
   ],
   "source": [
    "#Day4 Binomial Distribution piston problem jupyterProton029\n",
    "percent_defect, sampleSize=map(float,input().split())\n",
    "odds=percent_defect/100\n",
    "binos=[]\n",
    "def factorial(k):\n",
    "    if k==0 or k==1:\n",
    "        return 1\n",
    "    else:\n",
    "        return (factorial(k-1)*k)\n",
    "    \n",
    "\n",
    "def combinations(r,n,p):\n",
    "    return(factorial(n)/(factorial(n-r)*factorial(r)))\n",
    "    \n",
    "for i in range(3):\n",
    "    binos.append(combinations(i,sampleSize,odds)*(odds**i)*(1-odds)**(sampleSize-i))\n",
    "\n",
    "print(round(sum(binos),3))\n",
    "binos=[]\n",
    "for i in range(2,11):\n",
    "    binos.append(combinations(i,sampleSize,odds)*(odds**i)*(1-odds)**(sampleSize-i))\n",
    "print(round(sum(binos),3))"
   ]
  },
  {
   "cell_type": "code",
   "execution_count": 24,
   "id": "c8f02c89",
   "metadata": {},
   "outputs": [
    {
     "name": "stdout",
     "output_type": "stream",
     "text": [
      "1 3\n",
      "5\n",
      "0.9339999999999999\n"
     ]
    }
   ],
   "source": [
    "#Day4 GeometricD jupyterproton029\n",
    "n,d=map(int,input().split())\n",
    "k=int(input())\n",
    "p=n/d\n",
    "print(round((1-p)**(k-1)*p,3))\n",
    "\n"
   ]
  },
  {
   "cell_type": "code",
   "execution_count": 25,
   "id": "2d725184",
   "metadata": {},
   "outputs": [
    {
     "name": "stdout",
     "output_type": "stream",
     "text": [
      "1 3\n",
      "5\n",
      "0.868\n"
     ]
    }
   ],
   "source": [
    "#Day4 GeometricDII jupyterproton029\n",
    "n,d=map(int,input().split())\n",
    "k=int(input())\n",
    "p=n/d\n",
    "print(round(1-((1-p)**(k)),3))"
   ]
  },
  {
   "cell_type": "code",
   "execution_count": 2,
   "id": "efa6e889",
   "metadata": {},
   "outputs": [
    {
     "name": "stdout",
     "output_type": "stream",
     "text": [
      "2.5 \n",
      "5\n",
      "0.067\n"
     ]
    }
   ],
   "source": [
    "#Day5 PoissonDistribution I proton029\n",
    "import math\n",
    "mean=float(input())\n",
    "x=int(input())\n",
    "def factorial(n):\n",
    "    if n==0 or n==1:\n",
    "        return 1\n",
    "    else:\n",
    "        return(factorial(n-1)*n)\n",
    "p=mean**x/(math.exp(mean)*factorial(x))\n",
    "print(round(p,3))\n",
    "    "
   ]
  },
  {
   "cell_type": "code",
   "execution_count": 4,
   "id": "a4940b9d",
   "metadata": {},
   "outputs": [
    {
     "name": "stdout",
     "output_type": "stream",
     "text": [
      "0.88 1.55\n",
      "226.176\n",
      "286.1\n"
     ]
    }
   ],
   "source": [
    "#day5poissondistributionII proton029\n",
    "meanA, meanB=map(float,input().split())\n",
    "\n",
    "#since in poisson distribution mean=variance\n",
    "print(160+40*(meanA+meanA**2))#for machneA\n",
    "print(128+40*(meanB+meanB**2))#for machneB"
   ]
  },
  {
   "cell_type": "code",
   "execution_count": 5,
   "id": "d2e252ee",
   "metadata": {},
   "outputs": [
    {
     "name": "stdout",
     "output_type": "stream",
     "text": [
      "0.401\n",
      "0.341\n"
     ]
    }
   ],
   "source": [
    "# Enter your code here. Read input from STDIN. Print output to STDOUT\n",
    "import math\n",
    "mean=20.0\n",
    "stddev=2.0\n",
    "h1=19.5\n",
    "h21,h22=20.0,22.0\n",
    "\n",
    "def integrate(func,b,n=10000):\n",
    "    step=1/n\n",
    "    if(b<0):step=-step\n",
    "    n=int(abs(b)*n)\n",
    "    a=0.0\n",
    "    sq=0.0\n",
    "    for _ in range(0,n):\n",
    "        sq+=step*func(a)\n",
    "        a+=step\n",
    "    return abs(sq)\n",
    "\n",
    "erf = lambda b : (2*math.pi**(-0.5)) * integrate(lambda x: math.exp(-x**2),b)\n",
    "phi = lambda b : (1 + erf( (b-mean) / (stddev * 2**0.5) ))/2\n",
    "lesh1 = phi(0.0) - phi(h1)\n",
    "beth1h2 = phi(h22) - phi(h21)\n",
    "print(f'{lesh1:.3f}')\n",
    "print(f'{beth1h2:.3f}')"
   ]
  },
  {
   "cell_type": "code",
   "execution_count": 1,
   "id": "0a8b2f77",
   "metadata": {},
   "outputs": [
    {
     "name": "stdout",
     "output_type": "stream",
     "text": [
      "0.401\n",
      "0.341\n"
     ]
    }
   ],
   "source": [
    "\n",
    "import math\n",
    "\n",
    "\n",
    "def cdf(x, mean, std):\n",
    "    return 1/2*(1+math.erf((x-mean) / std / 2**(1/2)))\n",
    "\n",
    "\n",
    "mean = 20\n",
    "std = 2\n",
    "\n",
    "# Less than 19.5 hours\n",
    "print(round(cdf(19.5, mean, std), 3))\n",
    "# Between 20 and 22 hours?\n",
    "print(round(cdf(22, mean, std) - cdf(20, mean, std), 3))"
   ]
  },
  {
   "cell_type": "code",
   "execution_count": 15,
   "id": "5fe728c6",
   "metadata": {},
   "outputs": [
    {
     "name": "stdout",
     "output_type": "stream",
     "text": [
      "20 2\n",
      "19.5\n",
      "22 20\n",
      "0.401\n",
      "-0.341\n"
     ]
    }
   ],
   "source": [
    "import math\n",
    "\n",
    "mean, sig= map(float, input().split())\n",
    "firstRange=float(input())\n",
    "lim1, limit2=map(float, input().split())\n",
    "\n",
    "def areaunderND(x, mean, sig):\n",
    "       return 1/2*(1+math.erf((x-mean) / (sig*1.414)))\n",
    "\n",
    "print(round(areaunderND(firstRange, mean, sig), 3))\n",
    "print(round(areaunderND(limit2, mean, sig) - areaunderND(lim1, mean, sig), 3))\n"
   ]
  },
  {
   "cell_type": "code",
   "execution_count": 31,
   "id": "49a7f13b",
   "metadata": {},
   "outputs": [
    {
     "name": "stdout",
     "output_type": "stream",
     "text": [
      "70 10\n",
      "80\n",
      "60\n",
      "15.86\n",
      "84.14\n",
      "15.86\n"
     ]
    }
   ],
   "source": [
    "import math\n",
    "\n",
    "mean, sig= map(float, input().split())\n",
    "case1=float(input())\n",
    "case2=float(input())\n",
    "\n",
    "\n",
    "\n",
    "def areaunderND(x, mean, sig):\n",
    "       return 1/2*(1+math.erf((x-mean) / (sig*1.414)))\n",
    "\n",
    "print(round((1-areaunderND(case1, mean, sig))*100, 2))\n",
    "print(round((1-areaunderND(case2, mean, sig))*100, 2))\n",
    "print(round(areaunderND(case2, mean, sig)*100, 2))\n"
   ]
  },
  {
   "cell_type": "code",
   "execution_count": 32,
   "id": "b4657c03",
   "metadata": {},
   "outputs": [
    {
     "name": "stdout",
     "output_type": "stream",
     "text": [
      "9800\n",
      "49\n",
      "205\n",
      "15\n",
      "0.0098\n"
     ]
    }
   ],
   "source": [
    "\n",
    "import math\n",
    "\n",
    "x = int(input())\n",
    "n = int(input())\n",
    "mu = int(input())\n",
    "sigma = int(input())\n",
    "\n",
    "mu_sum = n * mu \n",
    "sigma_sum = math.sqrt(n) * sigma\n",
    "\n",
    "def cdf(x, mu, sigma):\n",
    "    Z = (x - mu)/sigma\n",
    "    return 0.5*(1 + math.erf(Z/(math.sqrt(2))))\n",
    "\n",
    "print(round(cdf(x, mu_sum, sigma_sum), 4))"
   ]
  },
  {
   "cell_type": "code",
   "execution_count": 1,
   "id": "99f5f1ae",
   "metadata": {},
   "outputs": [
    {
     "name": "stdout",
     "output_type": "stream",
     "text": [
      "484.32\n",
      "515.68\n"
     ]
    }
   ],
   "source": [
    "# proton029 CLT III\n",
    "mu, sampleSigma = 500, 80/10\n",
    "A = mu - (1.96*sampleSigma)\n",
    "B = mu + (1.96*sampleSigma)\n",
    "print(f'{round(A,2)}\\n{round(B,2)}')\n"
   ]
  },
  {
   "cell_type": "code",
   "execution_count": 16,
   "id": "1218e775",
   "metadata": {},
   "outputs": [
    {
     "name": "stdout",
     "output_type": "stream",
     "text": [
      "10 \n",
      "10 9.8 8 7.8 7.7 7 6 5 4 2\n",
      "200 44 32 24 22 17 15 12 8 4\n",
      "0.612\n"
     ]
    }
   ],
   "source": [
    "#Pearson Correlation Coefficient proton029\n",
    "n=int(input())\n",
    "X=list(map(float,input().split()))\n",
    "Y=list(map(float,input().split()))\n",
    "mu1=sum(X)/n\n",
    "mu2=sum(Y)/n\n",
    "sig1=(sum([(i - mu1)**2 for i in X]) / n)**0.5\n",
    "sig2=(sum([(i - mu2)**2 for i in Y]) / n)**0.5\n",
    "X=[i-mu1 for i in X]\n",
    "Y=[i-mu2 for i in Y]\n",
    "Y=[X[i]*Y[i] for i in range(len(X))]\n",
    "pearsonCorr=sum(Y)/(n*sig1*sig2)\n",
    "print(round(pearsonCorr,3))\n",
    "\n"
   ]
  },
  {
   "cell_type": "code",
   "execution_count": 10,
   "id": "802d5953",
   "metadata": {},
   "outputs": [
    {
     "data": {
      "text/plain": [
       "0.5512249743487633"
      ]
     },
     "execution_count": 10,
     "metadata": {},
     "output_type": "execute_result"
    }
   ],
   "source": [
    "peasonCorr\n",
    "10 9.8 8 7.8 7.7 7 6 5 4 2\n",
    "200 44 32 24 22 17 15 12 8 4"
   ]
  },
  {
   "cell_type": "code",
   "execution_count": 13,
   "id": "16dac2af",
   "metadata": {},
   "outputs": [
    {
     "name": "stdout",
     "output_type": "stream",
     "text": [
      "10\n",
      "10 9.8 8 7.8 7.7 7 6 5 4 2\n",
      "200 44 32 24 22 17 15 12 8 4\n",
      "0.612\n"
     ]
    }
   ],
   "source": [
    "N = int(input())\n",
    "X = list(map(float,input().strip().split()))\n",
    "Y = list(map(float,input().strip().split()))\n",
    "\n",
    "mu_x = sum(X) / N\n",
    "mu_y = sum(Y) / N\n",
    "\n",
    "stdv_x = (sum([(i - mu_x)**2 for i in X]) / N)**0.5\n",
    "stdv_y = (sum([(i - mu_y)**2 for i in Y]) / N)**0.5\n",
    "\n",
    "\n",
    "covariance = sum([(X[i] - mu_x) * (Y[i] -mu_y) for i in range(N)])\n",
    "\n",
    "correlation_coefficient = covariance / (N * stdv_x * stdv_y)\n",
    "\n",
    "print(round(correlation_coefficient,3))"
   ]
  },
  {
   "cell_type": "code",
   "execution_count": 7,
   "id": "03a3c3e9",
   "metadata": {},
   "outputs": [
    {
     "name": "stdout",
     "output_type": "stream",
     "text": [
      "10\n",
      "10 9.8 8 7.8 7.7 7 6 5 4 2\n",
      "200 44 32 24 22 17 15 12 8 4\n",
      "1.000\n"
     ]
    }
   ],
   "source": [
    "#proton029 \n",
    "n = int(input())\n",
    "X = list(map(float, input().split()))\n",
    "Y = list(map(float, input().split()))\n",
    "\n",
    "def ranked(X, n):\n",
    "    rank_dict = dict((x, i+1) for i, x in enumerate(sorted(set(X))))\n",
    "    li=[rank_dict[x] for x in X]\n",
    "    return li\n",
    "\n",
    "Xr=ranked(X,n)\n",
    "Yr=ranked(Y,n)\n",
    "\n",
    "li=[(Xr[i]-Yr[i])**2 for i in range(len(X))]\n",
    "r_XY=1 - (6 * sum(li)) / (n * (n**2 - 1))\n",
    "print(f'{r_XY:1.3f}')\n",
    "\n"
   ]
  },
  {
   "cell_type": "code",
   "execution_count": 6,
   "id": "d88d9a1c",
   "metadata": {},
   "outputs": [
    {
     "data": {
      "text/plain": [
       "1.0"
      ]
     },
     "execution_count": 6,
     "metadata": {},
     "output_type": "execute_result"
    }
   ],
   "source": [
    "r_XY\n"
   ]
  },
  {
   "cell_type": "code",
   "execution_count": null,
   "id": "f3627919",
   "metadata": {},
   "outputs": [],
   "source": []
  }
 ],
 "metadata": {
  "kernelspec": {
   "display_name": "Python 3 (ipykernel)",
   "language": "python",
   "name": "python3"
  },
  "language_info": {
   "codemirror_mode": {
    "name": "ipython",
    "version": 3
   },
   "file_extension": ".py",
   "mimetype": "text/x-python",
   "name": "python",
   "nbconvert_exporter": "python",
   "pygments_lexer": "ipython3",
   "version": "3.9.7"
  }
 },
 "nbformat": 4,
 "nbformat_minor": 5
}
